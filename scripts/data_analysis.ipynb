{
 "cells": [
  {
   "cell_type": "code",
   "execution_count": 12,
   "id": "initial_id",
   "metadata": {
    "collapsed": true,
    "ExecuteTime": {
     "end_time": "2023-08-09T07:55:34.466099Z",
     "start_time": "2023-08-09T07:55:34.463297Z"
    }
   },
   "outputs": [],
   "source": [
    "import os\n",
    "import json\n",
    "import scipy\n",
    "from pathlib import Path"
   ]
  },
  {
   "cell_type": "code",
   "execution_count": 9,
   "outputs": [
    {
     "name": "stdout",
     "output_type": "stream",
     "text": [
      "['1', '2']\n"
     ]
    }
   ],
   "source": [
    "OUTPUT_FOLDER = Path('..', 'outputs', 'raw')\n",
    "stories = [f for f in os.listdir(OUTPUT_FOLDER) if not f.startswith('.')]"
   ],
   "metadata": {
    "collapsed": false,
    "ExecuteTime": {
     "end_time": "2023-08-09T07:53:00.388271Z",
     "start_time": "2023-08-09T07:53:00.385446Z"
    }
   },
   "id": "c213abe6e452bd55"
  },
  {
   "cell_type": "code",
   "execution_count": 30,
   "outputs": [
    {
     "name": "stdout",
     "output_type": "stream",
     "text": [
      "coherence 8.22846153846155 0.09000657438183435\n",
      "inspiration 7.380769230769224 0.07644079582443013\n",
      "narrative fluency 8.083333333333343 0.0\n",
      "readability 7.945000000000006 0.07274150486903769\n",
      "word complexity 7.209999999999996 0.06716480559869938\n",
      "---\n",
      "coherence 8.249230769230783 0.04999408249006785\n",
      "inspiration 7.29923076923077 0.10256762814453318\n",
      "narrative fluency 7.893333333333332 0.042622372841815005\n",
      "readability 7.928571428571438 8.881784197001252e-16\n",
      "word complexity 5.483333333333335 0.19364916731037102\n",
      "---\n"
     ]
    },
    {
     "name": "stderr",
     "output_type": "stream",
     "text": [
      "/var/folders/kc/pktp3ckd2tz2qn_sbd4p_spc0000gn/T/ipykernel_30540/2501477268.py:17: DeprecationWarning: scipy.std is deprecated and will be removed in SciPy 2.0.0, use numpy.std instead\n",
      "  criterion_sd = scipy.std(criterion_scores)\n"
     ]
    }
   ],
   "source": [
    "for story in stories:\n",
    "    criteria = sorted([f for f in os.listdir(Path(OUTPUT_FOLDER, story)) if not f.startswith('.')])\n",
    "    for criterion in criteria:\n",
    "        files = [f for f in os.listdir(Path(OUTPUT_FOLDER, story, criterion)) if not f.startswith('.')]\n",
    "        criterion_scores = []\n",
    "        for file in files:\n",
    "            with open(Path(OUTPUT_FOLDER, story, criterion, file), 'r') as f:\n",
    "                data = json.load(f)\n",
    "                factor_scores = data[\"parsed_output\"][criterion]\n",
    "                factor_sum = 0\n",
    "                for factor in factor_scores:\n",
    "                    factor_sum += list(factor.values())[0]\n",
    "                score_avg = factor_sum / len(factor_scores)\n",
    "                criterion_scores.append(score_avg)\n",
    "\n",
    "        criterion_avg = sum(criterion_scores) / len(criterion_scores)\n",
    "        criterion_sd = scipy.std(criterion_scores)\n",
    "        print(criterion, criterion_avg, criterion_sd)\n",
    "    print('---')"
   ],
   "metadata": {
    "collapsed": false,
    "ExecuteTime": {
     "end_time": "2023-08-09T08:14:42.630347Z",
     "start_time": "2023-08-09T08:14:42.548017Z"
    }
   },
   "id": "c0d97383ae7ef351"
  },
  {
   "cell_type": "code",
   "execution_count": null,
   "outputs": [],
   "source": [],
   "metadata": {
    "collapsed": false
   },
   "id": "f7515d32af49e0a8"
  }
 ],
 "metadata": {
  "kernelspec": {
   "display_name": "Python 3",
   "language": "python",
   "name": "python3"
  },
  "language_info": {
   "codemirror_mode": {
    "name": "ipython",
    "version": 2
   },
   "file_extension": ".py",
   "mimetype": "text/x-python",
   "name": "python",
   "nbconvert_exporter": "python",
   "pygments_lexer": "ipython2",
   "version": "2.7.6"
  }
 },
 "nbformat": 4,
 "nbformat_minor": 5
}
